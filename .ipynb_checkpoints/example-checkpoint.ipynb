{
 "cells": [
  {
   "cell_type": "code",
   "execution_count": 4,
   "metadata": {},
   "outputs": [],
   "source": [
    "import binary_optimization as opt\n",
    "import numpy as np\n",
    "\n",
    "from sklearn import svm\n",
    "from sklearn import model_selection as ms\n",
    "from sklearn.datasets import load_wine\n",
    "from tqdm import tqdm\n",
    "from sklearn.model_selection import train_test_split"
   ]
  },
  {
   "cell_type": "code",
   "execution_count": 4,
   "metadata": {},
   "outputs": [
    {
     "data": {
      "text/plain": [
       "((4147, 48), (4147, 48), (415, 48), (415,))"
      ]
     },
     "execution_count": 4,
     "metadata": {},
     "output_type": "execute_result"
    }
   ],
   "source": [
    "tr_x.shape, tr_x.shape,te_x.shape,te_y.shape"
   ]
  },
  {
   "cell_type": "markdown",
   "metadata": {},
   "source": [
    "# dataset(wine)"
   ]
  },
  {
   "cell_type": "code",
   "execution_count": 5,
   "metadata": {},
   "outputs": [],
   "source": [
    "X, y = load_wine(return_X_y=True)"
   ]
  },
  {
   "cell_type": "code",
   "execution_count": 7,
   "metadata": {},
   "outputs": [],
   "source": [
    "tr_x, te_x, tr_y, te_y = train_test_split(\n",
    "    X, y, test_size=0.33, random_state=42)"
   ]
  },
  {
   "cell_type": "code",
   "execution_count": 8,
   "metadata": {},
   "outputs": [
    {
     "data": {
      "text/plain": [
       "((119, 13), (119,), (59, 13), (59,))"
      ]
     },
     "execution_count": 8,
     "metadata": {},
     "output_type": "execute_result"
    }
   ],
   "source": [
    "tr_x.shape, tr_y.shape,te_x.shape,te_y.shape"
   ]
  },
  {
   "cell_type": "code",
   "execution_count": 9,
   "metadata": {},
   "outputs": [],
   "source": [
    "def test_score(gen,tr_x,tr_y,te_x,te_y):\n",
    "    clf = svm.LinearSVC()\n",
    "    mask=np.array(gen) == 1\n",
    "    al_data=np.array(tr_x[:,mask])\n",
    "    al_test_data=np.array(te_x[:,mask])\n",
    "    return np.mean([svm.LinearSVC().fit(al_data,tr_y).score(al_test_data,te_y) for i in range(4)])"
   ]
  },
  {
   "cell_type": "markdown",
   "metadata": {},
   "source": [
    "## maxmization"
   ]
  },
  {
   "cell_type": "code",
   "execution_count": 13,
   "metadata": {},
   "outputs": [
    {
     "name": "stdout",
     "output_type": "stream",
     "text": [
      "Algorithm:\n",
      "\tbest_pos  best_val  number_of_1s\n"
     ]
    },
    {
     "ename": "AttributeError",
     "evalue": "module 'numpy' has no attribute 'to_array'",
     "output_type": "error",
     "traceback": [
      "\u001b[0;31m---------------------------------------------------------------------------\u001b[0m",
      "\u001b[0;31mAttributeError\u001b[0m                            Traceback (most recent call last)",
      "\u001b[0;32m<ipython-input-13-7945e4ceff5d>\u001b[0m in \u001b[0;36m<module>\u001b[0;34m\u001b[0m\n\u001b[1;32m     27\u001b[0m \u001b[0mprint\u001b[0m\u001b[0;34m(\u001b[0m\u001b[0;34m\"Algorithm:\\n\\t{0}  {1}  {2}\"\u001b[0m\u001b[0;34m.\u001b[0m\u001b[0mformat\u001b[0m\u001b[0;34m(\u001b[0m\u001b[0;34m\"best_pos\"\u001b[0m\u001b[0;34m,\u001b[0m\u001b[0;34m\"best_val\"\u001b[0m\u001b[0;34m,\u001b[0m\u001b[0;34m\"number_of_1s\"\u001b[0m\u001b[0;34m,\u001b[0m \u001b[0;34m\"test_score\"\u001b[0m\u001b[0;34m)\u001b[0m\u001b[0;34m)\u001b[0m\u001b[0;34m\u001b[0m\u001b[0;34m\u001b[0m\u001b[0m\n\u001b[1;32m     28\u001b[0m \u001b[0;34m\u001b[0m\u001b[0m\n\u001b[0;32m---> 29\u001b[0;31m \u001b[0ms\u001b[0m\u001b[0;34m,\u001b[0m\u001b[0mg\u001b[0m\u001b[0;34m,\u001b[0m\u001b[0ml\u001b[0m\u001b[0;34m=\u001b[0m\u001b[0mopt\u001b[0m\u001b[0;34m.\u001b[0m\u001b[0mBGA\u001b[0m\u001b[0;34m(\u001b[0m\u001b[0mEval_Func\u001b[0m\u001b[0;34m=\u001b[0m\u001b[0mEvaluate\u001b[0m\u001b[0;34m,\u001b[0m\u001b[0mn\u001b[0m\u001b[0;34m=\u001b[0m\u001b[0;36m20\u001b[0m\u001b[0;34m,\u001b[0m\u001b[0mm_i\u001b[0m\u001b[0;34m=\u001b[0m\u001b[0;36m200\u001b[0m\u001b[0;34m)\u001b[0m\u001b[0;34m\u001b[0m\u001b[0;34m\u001b[0m\u001b[0m\n\u001b[0m\u001b[1;32m     30\u001b[0m print(\"BGA:\\n\\t{0}   {1:.6f}  {2}  {3:.6f}\".format(\"\".join(map(str,g)),s,l,\n\u001b[1;32m     31\u001b[0m                                            test_score(g,tr_d,tr_l,te_d,te_l)))\n",
      "\u001b[0;32m~/Work/dynopii/experiments/binary_swarm_intelligence/binary_optimization.py\u001b[0m in \u001b[0;36mBGA\u001b[0;34m(Eval_Func, n, m_i, mutation, minf, dim, prog)\u001b[0m\n\u001b[1;32m     70\u001b[0m             }\n\u001b[1;32m     71\u001b[0m     \"\"\"\n\u001b[0;32m---> 72\u001b[0;31m     \u001b[0mestimate\u001b[0m\u001b[0;34m=\u001b[0m\u001b[0mEval_Func\u001b[0m\u001b[0;34m(\u001b[0m\u001b[0;34m)\u001b[0m\u001b[0;34m.\u001b[0m\u001b[0mevaluate\u001b[0m\u001b[0;34m\u001b[0m\u001b[0;34m\u001b[0m\u001b[0m\n\u001b[0m\u001b[1;32m     73\u001b[0m     \u001b[0;32mif\u001b[0m \u001b[0mdim\u001b[0m\u001b[0;34m==\u001b[0m\u001b[0;32mNone\u001b[0m\u001b[0;34m:\u001b[0m\u001b[0;34m\u001b[0m\u001b[0;34m\u001b[0m\u001b[0m\n\u001b[1;32m     74\u001b[0m         \u001b[0mdim\u001b[0m\u001b[0;34m=\u001b[0m\u001b[0mEval_Func\u001b[0m\u001b[0;34m(\u001b[0m\u001b[0;34m)\u001b[0m\u001b[0;34m.\u001b[0m\u001b[0mcheck_dimentions\u001b[0m\u001b[0;34m(\u001b[0m\u001b[0mdim\u001b[0m\u001b[0;34m)\u001b[0m\u001b[0;34m\u001b[0m\u001b[0;34m\u001b[0m\u001b[0m\n",
      "\u001b[0;32m<ipython-input-13-7945e4ceff5d>\u001b[0m in \u001b[0;36m__init__\u001b[0;34m(self)\u001b[0m\n\u001b[1;32m      3\u001b[0m         \u001b[0mX\u001b[0m\u001b[0;34m,\u001b[0m \u001b[0my\u001b[0m \u001b[0;34m=\u001b[0m \u001b[0mload_wine\u001b[0m\u001b[0;34m(\u001b[0m\u001b[0mreturn_X_y\u001b[0m\u001b[0;34m=\u001b[0m\u001b[0;32mTrue\u001b[0m\u001b[0;34m)\u001b[0m\u001b[0;34m\u001b[0m\u001b[0;34m\u001b[0m\u001b[0m\n\u001b[1;32m      4\u001b[0m         \u001b[0mtr_x\u001b[0m\u001b[0;34m,\u001b[0m \u001b[0mte_x\u001b[0m\u001b[0;34m,\u001b[0m \u001b[0mtr_y\u001b[0m\u001b[0;34m,\u001b[0m \u001b[0mte_y\u001b[0m \u001b[0;34m=\u001b[0m \u001b[0mtrain_test_split\u001b[0m\u001b[0;34m(\u001b[0m\u001b[0mX\u001b[0m\u001b[0;34m,\u001b[0m \u001b[0my\u001b[0m\u001b[0;34m,\u001b[0m \u001b[0mtest_size\u001b[0m\u001b[0;34m=\u001b[0m\u001b[0;36m0.33\u001b[0m\u001b[0;34m,\u001b[0m \u001b[0mrandom_state\u001b[0m\u001b[0;34m=\u001b[0m\u001b[0;36m42\u001b[0m\u001b[0;34m)\u001b[0m\u001b[0;34m\u001b[0m\u001b[0;34m\u001b[0m\u001b[0m\n\u001b[0;32m----> 5\u001b[0;31m         \u001b[0mself\u001b[0m\u001b[0;34m.\u001b[0m\u001b[0mtrain_l\u001b[0m \u001b[0;34m=\u001b[0m \u001b[0mnp\u001b[0m\u001b[0;34m.\u001b[0m\u001b[0mto_array\u001b[0m\u001b[0;34m(\u001b[0m\u001b[0mX\u001b[0m\u001b[0;34m)\u001b[0m\u001b[0;34m\u001b[0m\u001b[0;34m\u001b[0m\u001b[0m\n\u001b[0m\u001b[1;32m      6\u001b[0m         \u001b[0mself\u001b[0m\u001b[0;34m.\u001b[0m\u001b[0mtrain_d\u001b[0m \u001b[0;34m=\u001b[0m \u001b[0mnp\u001b[0m\u001b[0;34m.\u001b[0m\u001b[0mto_array\u001b[0m\u001b[0;34m(\u001b[0m\u001b[0my\u001b[0m\u001b[0;34m)\u001b[0m\u001b[0;34m\u001b[0m\u001b[0;34m\u001b[0m\u001b[0m\n\u001b[1;32m      7\u001b[0m \u001b[0;31m#         self.test_l = te_l\u001b[0m\u001b[0;34m\u001b[0m\u001b[0;34m\u001b[0m\u001b[0;34m\u001b[0m\u001b[0m\n",
      "\u001b[0;31mAttributeError\u001b[0m: module 'numpy' has no attribute 'to_array'"
     ]
    }
   ],
   "source": [
    "class Evaluate:\n",
    "    def __init__(self):\n",
    "        X, y = load_wine(return_X_y=True)\n",
    "        tr_x, te_x, tr_y, te_y = train_test_split(X, y, test_size=0.33, random_state=42)\n",
    "        self.train_l = np.to_array(X)\n",
    "        self.train_d = np.to_array(y)\n",
    "#         self.test_l = te_l\n",
    "#         self.test_d=te_d\n",
    "        self.K = 4\n",
    "    def evaluate(self,gen):\n",
    "        mask=np.array(gen) > 0\n",
    "        al_data=np.array([al[mask] for al in self.train_d])\n",
    "        #al_test_data=np.array([al[mask] for al in self.test_d])\n",
    "        kf = ms.KFold(n_splits=self.K)\n",
    "        s = 0\n",
    "        for tr_ix,te_ix in kf.split(al_data):\n",
    "            s+= svm.LinearSVC().fit(al_data[tr_ix],self.train_l[tr_ix]).score(al_data[te_ix],self.train_l[te_ix])#.predict(al_test_data)\n",
    "        s/=self.K\n",
    "        return s#np.count_nonzero(self.test_l==res)/len(self.test_l)\n",
    "    def check_dimentions(self,dim):\n",
    "        if dim==None:\n",
    "            return len(self.train_d[0])\n",
    "        else:\n",
    "            return dim\n",
    "\n",
    "\n",
    "print(\"Algorithm:\\n\\t{0}  {1}  {2}\".format(\"best_pos\",\"best_val\",\"number_of_1s\", \"test_score\"))\n",
    "\n",
    "s,g,l=opt.BGA(Eval_Func=Evaluate,n=20,m_i=200)\n",
    "print(\"BGA:\\n\\t{0}   {1:.6f}  {2}  {3:.6f}\".format(\"\".join(map(str,g)),s,l,\n",
    "                                           test_score(g,tr_d,tr_l,te_d,te_l)))\n",
    "s,g,l=opt.BPSO(Eval_Func=Evaluate,n=20,m_i=200)\n",
    "print(\"BPSO:\\n\\t{0}   {1:.6f}  {2}  {3:.6f}\".format(\"\".join(map(str,g)),s,l,\n",
    "                                      test_score(g,tr_d,tr_l,te_d,te_l)))\n",
    "s,g,l=opt.BCS(Eval_Func=Evaluate,n=20,m_i=200)\n",
    "print(\"BCS:\\n\\t{0}   {1:.6f}  {2}  {3:.6f}\".format(\"\".join(map(str,g)),s,l,\n",
    "                                     test_score(g,tr_d,tr_l,te_d,te_l)))\n",
    "s,g,l=opt.BFFA(Eval_Func=Evaluate,n=20,m_i=10)\n",
    "print(\"BFFA:\\n\\t{0}   {1:.6f}  {2}  {3:.6f}\".format(\"\".join(map(str,g)),s,l,\n",
    "                                      test_score(g,tr_d,tr_l,te_d,te_l)))\n",
    "s,g,l=opt.BBA(Eval_Func=Evaluate,n=20,m_i=200)\n",
    "print(\"BBA:\\n\\t{0}   {1:.6f}  {2}  {3:.6f}\".format(\"\".join(map(str,g)),s,l,\n",
    "                                     test_score(g,tr_d,tr_l,te_d,te_l)))\n",
    "s,g,l=opt.BGSA(Eval_Func=Evaluate,n=20,m_i=200)\n",
    "print(\"BGSA:\\n\\t{0}   {1:.6f}  {2}  {3:.6f}\".format(\"\".join(map(str,g)),s,l,\n",
    "                                      test_score(g,tr_d,tr_l,te_d,te_l)))\n",
    "s,g,l=opt.BDFA(Eval_Func=Evaluate,n=20,m_i=200)\n",
    "print(\"BDFA:\\n\\t{0}   {1:.6f}  {2}  {3:.6f}\".format(\"\".join(map(str,g)),s,l,\n",
    "                                      test_score(g,tr_d,tr_l,te_d,te_l)))\n"
   ]
  }
 ],
 "metadata": {
  "kernelspec": {
   "display_name": "Python 3",
   "language": "python",
   "name": "python3"
  },
  "language_info": {
   "codemirror_mode": {
    "name": "ipython",
    "version": 3
   },
   "file_extension": ".py",
   "mimetype": "text/x-python",
   "name": "python",
   "nbconvert_exporter": "python",
   "pygments_lexer": "ipython3",
   "version": "3.8.3"
  }
 },
 "nbformat": 4,
 "nbformat_minor": 4
}
