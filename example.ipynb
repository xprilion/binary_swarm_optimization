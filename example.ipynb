{
 "cells": [
  {
   "cell_type": "markdown",
   "metadata": {},
   "source": [
    "# Speed Up your ML training with Feature Selection using Swarm Optimizers"
   ]
  },
  {
   "cell_type": "markdown",
   "metadata": {},
   "source": [
    "What if I told you, you could train your model 1000 times faster and maintain the same accuracy (slightly less or more at times) by simply dropping a few features from your dataset?\n",
    "\n",
    "Interested? Read on!"
   ]
  },
  {
   "cell_type": "markdown",
   "metadata": {},
   "source": [
    "## Defining the problem"
   ]
  },
  {
   "cell_type": "markdown",
   "metadata": {},
   "source": [
    "Imagine you're working with a dataset with 10 features. Using all the 10 features, you're able to make accurate prediction 95% of times.\n",
    "\n",
    "Now, let's assume your training algorithm has an N^3 complexity. \n",
    "\n",
    "Thus, to get a 95% accuracy, you'd be taking 1000 units of time to train.\n",
    "\n",
    "Assuming that after feature selection, you are able to drop 6 features, and are able to still have a 95% accuracy with just 4 features, your training time comes down to 64 units of time. \n",
    "\n",
    "\n",
    "When I do the math, I love just spening 64 units of time (and computational effort) compared to a 1000 units."
   ]
  },
  {
   "cell_type": "markdown",
   "metadata": {},
   "source": [
    "tl;dr this is how feature selection works -"
   ]
  },
  {
   "cell_type": "markdown",
   "metadata": {},
   "source": [
    "![](https://miro.medium.com/max/2400/1*68H8EsCwfqJNxzYdPYtEDw.png)"
   ]
  },
  {
   "cell_type": "markdown",
   "metadata": {},
   "source": [
    "## Why Swarm Optimizers for Feature Selection?"
   ]
  },
  {
   "cell_type": "markdown",
   "metadata": {},
   "source": [
    "Because they can solve your problem faster.\n",
    "\n",
    "Swarm optimizers are a part of the **Heuristic Algorithms** family. A heuristic algorithm is one that is designed to solve a problem in a faster and more efficient fashion than traditional methods by sacrificing optimality, accuracy, precision, or completeness for speed. Heuristic algorithms often times used to solve NP-complete problems, a class of decision problems.\n",
    "\n",
    "Swarm Intelligence systems employ large numbers of agents interacting locally with one another and the environment. Swarm intelligence refers to the collective behavior of decentralized systems and can be used to describe both natural and artificial systems. Specific algorithms for this class of system include the particle swarm optimization algorithm, the ant colony optimization algorithm, and artificial bee colony algorithm. Each of the previous algorithms was inspired by the natural, self-organized behavior of animals.\n",
    "\n",
    "In this report, I shall be presenting you with a library of Binary Swarm Optimization algorithms, consisting of - \n",
    "\n",
    "* Binary Genetic Algorithm\n",
    "* Binary Particle Swarm optimization\n",
    "* Binary Cuckoo Search\n",
    "* Binary Firefly algorithm\n",
    "* Binary Bat Algorithm\n",
    "* Binary Gravitational Search algorithm\n",
    "* Binary Dragon Fly Algorithm"
   ]
  },
  {
   "cell_type": "code",
   "execution_count": 12,
   "metadata": {},
   "outputs": [],
   "source": [
    "import binary_optimization as opt\n",
    "import numpy as np\n",
    "\n",
    "from sklearn import svm\n",
    "from sklearn import model_selection as ms\n",
    "from tqdm import tqdm\n",
    "from warnings import filterwarnings\n",
    "filterwarnings('ignore')"
   ]
  },
  {
   "cell_type": "markdown",
   "metadata": {},
   "source": [
    "# dataset(wine)"
   ]
  },
  {
   "cell_type": "code",
   "execution_count": 13,
   "metadata": {},
   "outputs": [],
   "source": [
    "with open(\"wine/0.6/wine_train_data_testrate0.6.txt\") as f:\n",
    "    tr_d=np.array([[float(d) for d  in data.split(',')] for data in f.read().splitlines()])\n",
    "with open(\"wine/0.6/wine_test_data_testrate0.6.txt\") as f:\n",
    "    te_d=np.array([[float(d) for d  in data.split(',')] for data in f.read().splitlines()])\n",
    "\n",
    "with open(\"wine/0.6/wine_train_label_testrate0.6.txt\") as f:\n",
    "    tr_l=np.array([int(data) for data in f.read().splitlines()])\n",
    "\n",
    "with open(\"wine/0.6/wine_test_label_testrate0.6.txt\") as f:\n",
    "    te_l=np.array([int(data) for data in f.read().splitlines()])\n"
   ]
  },
  {
   "cell_type": "code",
   "execution_count": 14,
   "metadata": {},
   "outputs": [],
   "source": [
    "def test_score(gen,tr_x,tr_y,te_x,te_y):\n",
    "    clf = svm.LinearSVC()\n",
    "    mask=np.array(gen) == 1\n",
    "    al_data=np.array(tr_x[:,mask])\n",
    "    al_test_data=np.array(te_x[:,mask])\n",
    "    return np.mean([svm.LinearSVC().fit(al_data,tr_y).score(al_test_data,te_y) for i in range(4)])"
   ]
  },
  {
   "cell_type": "markdown",
   "metadata": {},
   "source": [
    "## maxmization"
   ]
  },
  {
   "cell_type": "code",
   "execution_count": 15,
   "metadata": {},
   "outputs": [
    {
     "name": "stdout",
     "output_type": "stream",
     "text": [
      "Algorithm:\n",
      "\tbest_features         best_val      number_of_1s      test_score\n",
      "BGA:\n",
      "\t1011011111110          0.944444           10             0.941589\n"
     ]
    }
   ],
   "source": [
    "class Evaluate:\n",
    "    def __init__(self):\n",
    "        self.train_l = tr_l\n",
    "        self.train_d = tr_d\n",
    "#         self.test_l = te_l\n",
    "#         self.test_d=te_d\n",
    "        self.K = 4\n",
    "    def evaluate(self,gen):\n",
    "        mask=np.array(gen) > 0\n",
    "        al_data=np.array([al[mask] for al in self.train_d])\n",
    "        #al_test_data=np.array([al[mask] for al in self.test_d])\n",
    "        kf = ms.KFold(n_splits=self.K)\n",
    "        s = 0\n",
    "        for tr_ix,te_ix in kf.split(al_data):\n",
    "            s+= svm.LinearSVC().fit(al_data[tr_ix],self.train_l[tr_ix]).score(al_data[te_ix],self.train_l[te_ix])#.predict(al_test_data)\n",
    "        s/=self.K\n",
    "        return s#np.count_nonzero(self.test_l==res)/len(self.test_l)\n",
    "    def check_dimentions(self,dim):\n",
    "        if dim==None:\n",
    "            return len(self.train_d[0])\n",
    "        else:\n",
    "            return dim\n",
    "\n",
    "\n",
    "print(\"Algorithm:\\n\\t{0}         {1}      {2}      {3}\".format(\"best_features\",\"best_val\",\"number_of_1s\", \"test_score\"))\n",
    "\n",
    "s,g,l=opt.BGA(Eval_Func=Evaluate,n=20,m_i=1000)\n",
    "print(\"BGA:\\n\\t{0}          {1:.6f}           {2}             {3:.6f}\".format(\"\".join(map(str,g)),s,l,\n",
    "                                           test_score(g,tr_d,tr_l,te_d,te_l)))\n",
    "# s,g,l=opt.BPSO(Eval_Func=Evaluate,n=20,m_i=200)\n",
    "# print(\"BPSO:\\n\\t{0}   {1:.6f}  {2}  {3:.6f}\".format(\"\".join(map(str,g)),s,l,\n",
    "#                                       test_score(g,tr_d,tr_l,te_d,te_l)))\n",
    "# s,g,l=opt.BCS(Eval_Func=Evaluate,n=20,m_i=200)\n",
    "# print(\"BCS:\\n\\t{0}   {1:.6f}  {2}  {3:.6f}\".format(\"\".join(map(str,g)),s,l,\n",
    "#                                      test_score(g,tr_d,tr_l,te_d,te_l)))\n",
    "# s,g,l=opt.BFFA(Eval_Func=Evaluate,n=20,m_i=10)\n",
    "# print(\"BFFA:\\n\\t{0}   {1:.6f}  {2}  {3:.6f}\".format(\"\".join(map(str,g)),s,l,\n",
    "#                                       test_score(g,tr_d,tr_l,te_d,te_l)))\n",
    "# s,g,l=opt.BBA(Eval_Func=Evaluate,n=20,m_i=200)\n",
    "# print(\"BBA:\\n\\t{0}   {1:.6f}  {2}  {3:.6f}\".format(\"\".join(map(str,g)),s,l,\n",
    "#                                      test_score(g,tr_d,tr_l,te_d,te_l)))\n",
    "# s,g,l=opt.BGSA(Eval_Func=Evaluate,n=20,m_i=200)\n",
    "# print(\"BGSA:\\n\\t{0}   {1:.6f}  {2}  {3:.6f}\".format(\"\".join(map(str,g)),s,l,\n",
    "#                                       test_score(g,tr_d,tr_l,te_d,te_l)))\n",
    "# s,g,l=opt.BDFA(Eval_Func=Evaluate,n=20,m_i=200)\n",
    "# print(\"BDFA:\\n\\t{0}   {1:.6f}  {2}  {3:.6f}\".format(\"\".join(map(str,g)),s,l,\n",
    "#                                       test_score(g,tr_d,tr_l,te_d,te_l)))\n"
   ]
  }
 ],
 "metadata": {
  "kernelspec": {
   "display_name": "Python 3",
   "language": "python",
   "name": "python3"
  },
  "language_info": {
   "codemirror_mode": {
    "name": "ipython",
    "version": 3
   },
   "file_extension": ".py",
   "mimetype": "text/x-python",
   "name": "python",
   "nbconvert_exporter": "python",
   "pygments_lexer": "ipython3",
   "version": "3.8.3"
  }
 },
 "nbformat": 4,
 "nbformat_minor": 4
}
