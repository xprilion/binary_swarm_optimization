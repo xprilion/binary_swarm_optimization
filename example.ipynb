{
 "cells": [
  {
   "cell_type": "code",
   "execution_count": 1,
   "metadata": {},
   "outputs": [],
   "source": [
    "import binary_optimization as opt\n",
    "import numpy as np\n",
    "\n",
    "from sklearn import svm\n",
    "from sklearn import model_selection as ms\n",
    "from tqdm import tqdm"
   ]
  },
  {
   "cell_type": "code",
   "execution_count": 2,
   "metadata": {},
   "outputs": [],
   "source": [
    "import LoadFile as lf"
   ]
  },
  {
   "cell_type": "code",
   "execution_count": 3,
   "metadata": {},
   "outputs": [],
   "source": [
    "tr_x, te_x, tr_y, te_y = lf.load_ADA()"
   ]
  },
  {
   "cell_type": "code",
   "execution_count": 4,
   "metadata": {},
   "outputs": [
    {
     "data": {
      "text/plain": [
       "((4147, 48), (4147, 48), (415, 48), (415,))"
      ]
     },
     "execution_count": 4,
     "metadata": {},
     "output_type": "execute_result"
    }
   ],
   "source": [
    "tr_x.shape, tr_x.shape,te_x.shape,te_y.shape"
   ]
  },
  {
   "cell_type": "markdown",
   "metadata": {},
   "source": [
    "# dataset(wine)"
   ]
  },
  {
   "cell_type": "code",
   "execution_count": 5,
   "metadata": {},
   "outputs": [],
   "source": [
    "with open(\"wine/0.6/wine_train_data_testrate0.6.txt\") as f:\n",
    "    tr_d=np.array([[float(d) for d  in data.split(',')] for data in f.read().splitlines()])\n",
    "with open(\"wine/0.6/wine_test_data_testrate0.6.txt\") as f:\n",
    "    te_d=np.array([[float(d) for d  in data.split(',')] for data in f.read().splitlines()])\n",
    "\n",
    "with open(\"wine/0.6/wine_train_label_testrate0.6.txt\") as f:\n",
    "    tr_l=np.array([int(data) for data in f.read().splitlines()])\n",
    "\n",
    "with open(\"wine/0.6/wine_test_label_testrate0.6.txt\") as f:\n",
    "    te_l=np.array([int(data) for data in f.read().splitlines()])\n"
   ]
  },
  {
   "cell_type": "code",
   "execution_count": null,
   "metadata": {
    "collapsed": true
   },
   "outputs": [],
   "source": []
  },
  {
   "cell_type": "code",
   "execution_count": 6,
   "metadata": {},
   "outputs": [],
   "source": [
    "def test_score(gen,tr_x,tr_y,te_x,te_y):\n",
    "    clf = svm.LinearSVC()\n",
    "    mask=np.array(gen) == 1\n",
    "    al_data=np.array(tr_x[:,mask])\n",
    "    al_test_data=np.array(te_x[:,mask])\n",
    "    return np.mean([svm.LinearSVC().fit(al_data,tr_y).score(al_test_data,te_y) for i in range(4)])"
   ]
  },
  {
   "cell_type": "markdown",
   "metadata": {},
   "source": [
    "## maxmization"
   ]
  },
  {
   "cell_type": "code",
   "execution_count": 7,
   "metadata": {},
   "outputs": [
    {
     "name": "stdout",
     "output_type": "stream",
     "text": [
      "Algorithm:\n",
      "\tbest_pos  best_val  number_of_1s\n",
      "BGA:\n",
      "\t0011001011100   0.944444  6  0.934579\n",
      "BPSO:\n",
      "\t0011011101000   0.958333  6  0.934579\n",
      "BCS:\n",
      "\t0001011111100   0.944444  7  0.873832\n",
      "BFFA:\n",
      "\t0111000011110   0.958333  7  0.915888\n",
      "BBA:\n",
      "\t0001001111100   0.958333  6  0.897196\n",
      "BGSA:\n",
      "\t1111101001010   0.916667  8  0.862150\n",
      "BDFA:\n",
      "\t1101001110100   0.971405  7  0.878505\n"
     ]
    }
   ],
   "source": [
    "class Evaluate:\n",
    "    def __init__(self):\n",
    "        self.train_l = tr_l\n",
    "        self.train_d = tr_d\n",
    "#         self.test_l = te_l\n",
    "#         self.test_d=te_d\n",
    "        self.K = 4\n",
    "    def evaluate(self,gen):\n",
    "        mask=np.array(gen) > 0\n",
    "        al_data=np.array([al[mask] for al in self.train_d])\n",
    "        #al_test_data=np.array([al[mask] for al in self.test_d])\n",
    "        kf = ms.KFold(n_splits=self.K)\n",
    "        s = 0\n",
    "        for tr_ix,te_ix in kf.split(al_data):\n",
    "            s+= svm.LinearSVC().fit(al_data[tr_ix],self.train_l[tr_ix]).score(al_data[te_ix],self.train_l[te_ix])#.predict(al_test_data)\n",
    "        s/=self.K\n",
    "        return s#np.count_nonzero(self.test_l==res)/len(self.test_l)\n",
    "    def check_dimentions(self,dim):\n",
    "        if dim==None:\n",
    "            return len(self.train_d[0])\n",
    "        else:\n",
    "            return dim\n",
    "\n",
    "\n",
    "print(\"Algorithm:\\n\\t{0}  {1}  {2}\".format(\"best_pos\",\"best_val\",\"number_of_1s\", \"test_score\"))\n",
    "\n",
    "s,g,l=opt.BGA(Eval_Func=Evaluate,n=20,m_i=200)\n",
    "print(\"BGA:\\n\\t{0}   {1:.6f}  {2}  {3:.6f}\".format(\"\".join(map(str,g)),s,l,\n",
    "                                           test_score(g,tr_d,tr_l,te_d,te_l)))\n",
    "s,g,l=opt.BPSO(Eval_Func=Evaluate,n=20,m_i=200)\n",
    "print(\"BPSO:\\n\\t{0}   {1:.6f}  {2}  {3:.6f}\".format(\"\".join(map(str,g)),s,l,\n",
    "                                      test_score(g,tr_d,tr_l,te_d,te_l)))\n",
    "s,g,l=opt.BCS(Eval_Func=Evaluate,n=20,m_i=200)\n",
    "print(\"BCS:\\n\\t{0}   {1:.6f}  {2}  {3:.6f}\".format(\"\".join(map(str,g)),s,l,\n",
    "                                     test_score(g,tr_d,tr_l,te_d,te_l)))\n",
    "s,g,l=opt.BFFA(Eval_Func=Evaluate,n=20,m_i=10)\n",
    "print(\"BFFA:\\n\\t{0}   {1:.6f}  {2}  {3:.6f}\".format(\"\".join(map(str,g)),s,l,\n",
    "                                      test_score(g,tr_d,tr_l,te_d,te_l)))\n",
    "s,g,l=opt.BBA(Eval_Func=Evaluate,n=20,m_i=200)\n",
    "print(\"BBA:\\n\\t{0}   {1:.6f}  {2}  {3:.6f}\".format(\"\".join(map(str,g)),s,l,\n",
    "                                     test_score(g,tr_d,tr_l,te_d,te_l)))\n",
    "s,g,l=opt.BGSA(Eval_Func=Evaluate,n=20,m_i=200)\n",
    "print(\"BGSA:\\n\\t{0}   {1:.6f}  {2}  {3:.6f}\".format(\"\".join(map(str,g)),s,l,\n",
    "                                      test_score(g,tr_d,tr_l,te_d,te_l)))\n",
    "s,g,l=opt.BDFA(Eval_Func=Evaluate,n=20,m_i=200)\n",
    "print(\"BDFA:\\n\\t{0}   {1:.6f}  {2}  {3:.6f}\".format(\"\".join(map(str,g)),s,l,\n",
    "                                      test_score(g,tr_d,tr_l,te_d,te_l)))\n"
   ]
  },
  {
   "cell_type": "code",
   "execution_count": null,
   "metadata": {
    "collapsed": true
   },
   "outputs": [],
   "source": []
  },
  {
   "cell_type": "markdown",
   "metadata": {},
   "source": [
    "## minimization"
   ]
  },
  {
   "cell_type": "code",
   "execution_count": 6,
   "metadata": {},
   "outputs": [
    {
     "name": "stdout",
     "output_type": "stream",
     "text": [
      "BGA:\n",
      "\t0111101111110   0.083333  10  0.841121\n",
      "BPSO:\n",
      "\t1001001111100   0.041667  7  0.899533\n",
      "BCS:\n",
      "\t1101001110100   0.028595  7  0.880841\n",
      "BFFA:\n",
      "\t0000011101000   0.083333  4  0.887850\n",
      "BBA:\n",
      "\t0011011101000   0.041667  6  0.906542\n",
      "BGSA:\n",
      "\t1011011001000   0.055556  6  0.913551\n",
      "BDFA:\n",
      "\t0000001101100   0.041667  4  0.878505\n"
     ]
    }
   ],
   "source": [
    "class Evaluate:\n",
    "    def __init__(self):\n",
    "        self.train_l=tr_l\n",
    "        self.train_d=tr_d\n",
    "        #self.test_l=te_l\n",
    "        #self.test_d=te_d\n",
    "        self.K = 4\n",
    "    def evaluate(self,gen):\n",
    "        mask=np.array(gen) > 0\n",
    "        al_data=np.array([al[mask] for al in self.train_d])\n",
    "        #al_test_data=np.array([al[mask] for al in self.test_d])\n",
    "        kf = ms.KFold(n_splits=self.K)\n",
    "        s = 0\n",
    "        for tr_ix,te_ix in kf.split(al_data):\n",
    "            s+= svm.LinearSVC().fit(al_data[tr_ix],self.train_l[tr_ix]).score(al_data[te_ix],self.train_l[te_ix])#.predict(al_test_data)\n",
    "        s/=self.K\n",
    "        return 1-s\n",
    "    def check_dimentions(self,dim):\n",
    "        if dim==None:\n",
    "            return len(self.train_d[0])\n",
    "        else:\n",
    "            return dim\n",
    "\n",
    "\n",
    "s,g,l=opt.BGA(Eval_Func=Evaluate,n=20,m_i=200,minf=1)\n",
    "print(\"BGA:\\n\\t{0}   {1:.6f}  {2}  {3:.6f}\".format(\"\".join(map(str,g)),s,l,\n",
    "                                     test_score(g,tr_d,tr_l,te_d,te_l)))\n",
    "s,g,l=opt.BPSO(Eval_Func=Evaluate,n=20,m_i=200,minf=1)\n",
    "print(\"BPSO:\\n\\t{0}   {1:.6f}  {2}  {3:.6f}\".format(\"\".join(map(str,g)),s,l,\n",
    "                                      test_score(g,tr_d,tr_l,te_d,te_l)))\n",
    "s,g,l=opt.BCS(Eval_Func=Evaluate,n=20,m_i=200,minf=1)\n",
    "print(\"BCS:\\n\\t{0}   {1:.6f}  {2}  {3:.6f}\".format(\"\".join(map(str,g)),s,l,\n",
    "                                     test_score(g,tr_d,tr_l,te_d,te_l)))\n",
    "s,g,l=opt.BFFA(Eval_Func=Evaluate,n=20,m_i=10,minf=1)\n",
    "print(\"BFFA:\\n\\t{0}   {1:.6f}  {2}  {3:.6f}\".format(\"\".join(map(str,g)),s,l,\n",
    "                                      test_score(g,tr_d,tr_l,te_d,te_l)))\n",
    "s,g,l=opt.BBA(Eval_Func=Evaluate,n=20,m_i=200,minf=1)\n",
    "print(\"BBA:\\n\\t{0}   {1:.6f}  {2}  {3:.6f}\".format(\"\".join(map(str,g)),s,l,\n",
    "                                     test_score(g,tr_d,tr_l,te_d,te_l)))\n",
    "s,g,l=opt.BGSA(Eval_Func=Evaluate,n=20,m_i=200,minf=1)\n",
    "print(\"BGSA:\\n\\t{0}   {1:.6f}  {2}  {3:.6f}\".format(\"\".join(map(str,g)),s,l,\n",
    "                                      test_score(g,tr_d,tr_l,te_d,te_l)))\n",
    "s,g,l=opt.BDFA(Eval_Func=Evaluate,n=20,m_i=200,minf=1)\n",
    "print(\"BDFA:\\n\\t{0}   {1:.6f}  {2}  {3:.6f}\".format(\"\".join(map(str,g)),s,l,\n",
    "                                      test_score(g,tr_d,tr_l,te_d,te_l)))"
   ]
  },
  {
   "cell_type": "code",
   "execution_count": null,
   "metadata": {
    "collapsed": true
   },
   "outputs": [],
   "source": []
  },
  {
   "cell_type": "markdown",
   "metadata": {},
   "source": [
    "# dataset(sonar)"
   ]
  },
  {
   "cell_type": "code",
   "execution_count": 7,
   "metadata": {},
   "outputs": [],
   "source": [
    "with open(\"sonar/0.6/sonar_train_data_testrate0.6.txt\") as f:\n",
    "    s_tr_d=np.array([[float(d) for d  in data.split(',')] for data in f.read().splitlines()])\n",
    "with open(\"sonar/0.6/sonar_test_data_testrate0.6.txt\") as f:\n",
    "    s_te_d=np.array([[float(d) for d  in data.split(',')] for data in f.read().splitlines()])\n",
    "\n",
    "with open(\"sonar/0.6/sonar_train_label_testrate0.6.txt\") as f:\n",
    "    s_tr_l=np.array([int(data) for data in f.read().splitlines()])\n",
    "\n",
    "with open(\"sonar/0.6/sonar_test_label_testrate0.6.txt\") as f:\n",
    "    s_te_l=np.array([int(data) for data in f.read().splitlines()])\n"
   ]
  },
  {
   "cell_type": "code",
   "execution_count": null,
   "metadata": {
    "collapsed": true
   },
   "outputs": [],
   "source": []
  },
  {
   "cell_type": "markdown",
   "metadata": {},
   "source": [
    "## maxmization"
   ]
  },
  {
   "cell_type": "code",
   "execution_count": 8,
   "metadata": {},
   "outputs": [
    {
     "name": "stdout",
     "output_type": "stream",
     "text": [
      "BGA:\n",
      "\t001100000000000100100110101010001000010111000000000000010001   0.506548  16  0.624000\n",
      "BPSO:\n",
      "\t001001010000001011000110000011101100010110000000011001101011   0.290476  23  0.592000\n",
      "BCS:\n",
      "\t000001000000001000000000000100001000000000000000100000001000   0.435119  6  0.544000\n",
      "BFFA:\n",
      "\t000000100000000000000000010000101000000000000000000100000010   0.314881  6  0.480000\n",
      "BBA:\n",
      "\t010001100000000000000000000001010000000000000000000000001011   0.277381  8  0.448000\n",
      "BGSA:\n",
      "\t101111010110011110001100011100010100000000101011111011000010   0.505952  29  0.792000\n",
      "BDFA:\n",
      "\t001001000000000000000001001010010000000010000000010001000100   0.336905  10  0.432000\n"
     ]
    }
   ],
   "source": [
    "class Evaluate:\n",
    "    def __init__(self):\n",
    "        self.train_l=s_tr_l\n",
    "        self.train_d=s_tr_d\n",
    "        self.test_l=s_te_l\n",
    "        self.test_d=s_te_d\n",
    "        self.K=4\n",
    "    def evaluate(self,gen):\n",
    "        mask=np.array(gen) > 0\n",
    "        al_data=np.array([al[mask] for al in self.train_d])\n",
    "        #al_test_data=np.array([al[mask] for al in self.test_d])\n",
    "        kf = ms.KFold(n_splits=self.K)\n",
    "        s = 0\n",
    "        for tr_ix,te_ix in kf.split(al_data):\n",
    "            s+= svm.LinearSVC().fit(al_data[tr_ix],self.train_l[tr_ix]).score(al_data[te_ix],self.train_l[te_ix])#.predict(al_test_data)\n",
    "        s/=self.K\n",
    "        return s\n",
    "    def check_dimentions(self,dim):\n",
    "        if dim==None:\n",
    "            return len(self.train_d[0])\n",
    "        else:\n",
    "            return dim\n",
    "\n",
    "\n",
    "s,g,l=opt.BGA(Eval_Func=Evaluate,n=20,m_i=200,minf=1)\n",
    "print(\"BGA:\\n\\t{0}   {1:.6f}  {2}  {3:.6f}\".format(\"\".join(map(str,g)),s,l,\n",
    "                                     test_score(g,s_tr_d,s_tr_l,s_te_d,s_te_l)))\n",
    "s,g,l=opt.BPSO(Eval_Func=Evaluate,n=20,m_i=200,minf=1)\n",
    "print(\"BPSO:\\n\\t{0}   {1:.6f}  {2}  {3:.6f}\".format(\"\".join(map(str,g)),s,l,\n",
    "                                      test_score(g,s_tr_d,s_tr_l,s_te_d,s_te_l)))\n",
    "s,g,l=opt.BCS(Eval_Func=Evaluate,n=20,m_i=200,minf=1)\n",
    "print(\"BCS:\\n\\t{0}   {1:.6f}  {2}  {3:.6f}\".format(\"\".join(map(str,g)),s,l,\n",
    "                                     test_score(g,s_tr_d,s_tr_l,s_te_d,s_te_l)))\n",
    "s,g,l=opt.BFFA(Eval_Func=Evaluate,n=20,m_i=10,minf=1)\n",
    "print(\"BFFA:\\n\\t{0}   {1:.6f}  {2}  {3:.6f}\".format(\"\".join(map(str,g)),s,l,\n",
    "                                      test_score(g,s_tr_d,s_tr_l,s_te_d,s_te_l)))\n",
    "s,g,l=opt.BBA(Eval_Func=Evaluate,n=20,m_i=200,minf=1)\n",
    "print(\"BBA:\\n\\t{0}   {1:.6f}  {2}  {3:.6f}\".format(\"\".join(map(str,g)),s,l,\n",
    "                                     test_score(g,s_tr_d,s_tr_l,s_te_d,s_te_l)))\n",
    "s,g,l=opt.BGSA(Eval_Func=Evaluate,n=20,m_i=200,minf=1)\n",
    "print(\"BGSA:\\n\\t{0}   {1:.6f}  {2}  {3:.6f}\".format(\"\".join(map(str,g)),s,l,\n",
    "                                      test_score(g,s_tr_d,s_tr_l,s_te_d,s_te_l)))\n",
    "s,g,l=opt.BDFA(Eval_Func=Evaluate,n=20,m_i=200,minf=1)\n",
    "print(\"BDFA:\\n\\t{0}   {1:.6f}  {2}  {3:.6f}\".format(\"\".join(map(str,g)),s,l,\n",
    "                                      test_score(g,s_tr_d,s_tr_l,s_te_d,s_te_l)))\n"
   ]
  },
  {
   "cell_type": "markdown",
   "metadata": {},
   "source": [
    "## minimization"
   ]
  },
  {
   "cell_type": "code",
   "execution_count": 9,
   "metadata": {},
   "outputs": [
    {
     "name": "stdout",
     "output_type": "stream",
     "text": [
      "BGA:\n",
      "\t101111111111111111010111111111011111111101001111111111110101   0.277976  51  0.800000\n",
      "BPSO:\n",
      "\t101010110110100101010011110000000001000110001101110101100111   0.156548  29  0.784000\n",
      "BCS:\n",
      "\t111110101010001111111110011111101001011111001100111110111111   0.252976  43  0.776000\n",
      "BFFA:\n",
      "\t001000000010000000000000000000000001001000000000000100000000   0.252976  5  0.736000\n",
      "BBA:\n",
      "\t100100100010000100010110101000000010000000001000110010000000   0.180357  15  0.768000\n",
      "BGSA:\n",
      "\t100011010010111001010010110000000000010000001000101010011000   0.229762  20  0.768000\n",
      "BDFA:\n",
      "\t011100101110111011100010110000000001111101000101010011111010   0.157143  31  0.752000\n"
     ]
    }
   ],
   "source": [
    "class Evaluate:\n",
    "    def __init__(self):\n",
    "        self.train_l=s_tr_l\n",
    "        self.train_d=s_tr_d\n",
    "        self.test_l=s_te_l\n",
    "        self.test_d=s_te_d\n",
    "        self.K = 4\n",
    "    def evaluate(self,gen):\n",
    "        mask=np.array(gen) > 0\n",
    "        al_data=np.array([al[mask] for al in self.train_d])\n",
    "        #al_test_data=np.array([al[mask] for al in self.test_d])\n",
    "        kf = ms.KFold(n_splits=self.K)\n",
    "        s = 0\n",
    "        for tr_ix,te_ix in kf.split(al_data):\n",
    "            s+= svm.LinearSVC().fit(al_data[tr_ix],self.train_l[tr_ix]).score(al_data[te_ix],self.train_l[te_ix])#.predict(al_test_data)\n",
    "        s/=self.K\n",
    "        return 1-s\n",
    "    def check_dimentions(self,dim):\n",
    "        if dim==None:\n",
    "            return len(self.train_d[0])\n",
    "        else:\n",
    "            return dim\n",
    "\n",
    "\n",
    "s,g,l=opt.BGA(Eval_Func=Evaluate,n=20,m_i=200,minf=1)\n",
    "print(\"BGA:\\n\\t{0}   {1:.6f}  {2}  {3:.6f}\".format(\"\".join(map(str,g)),s,l,\n",
    "                                     test_score(g,s_tr_d,s_tr_l,s_te_d,s_te_l)))\n",
    "s,g,l=opt.BPSO(Eval_Func=Evaluate,n=20,m_i=200,minf=1)\n",
    "print(\"BPSO:\\n\\t{0}   {1:.6f}  {2}  {3:.6f}\".format(\"\".join(map(str,g)),s,l,\n",
    "                                      test_score(g,s_tr_d,s_tr_l,s_te_d,s_te_l)))\n",
    "s,g,l=opt.BCS(Eval_Func=Evaluate,n=20,m_i=200,minf=1)\n",
    "print(\"BCS:\\n\\t{0}   {1:.6f}  {2}  {3:.6f}\".format(\"\".join(map(str,g)),s,l,\n",
    "                                     test_score(g,s_tr_d,s_tr_l,s_te_d,s_te_l)))\n",
    "s,g,l=opt.BFFA(Eval_Func=Evaluate,n=20,m_i=10,minf=1)\n",
    "print(\"BFFA:\\n\\t{0}   {1:.6f}  {2}  {3:.6f}\".format(\"\".join(map(str,g)),s,l,\n",
    "                                      test_score(g,s_tr_d,s_tr_l,s_te_d,s_te_l)))\n",
    "s,g,l=opt.BBA(Eval_Func=Evaluate,n=20,m_i=200,minf=1)\n",
    "print(\"BBA:\\n\\t{0}   {1:.6f}  {2}  {3:.6f}\".format(\"\".join(map(str,g)),s,l,\n",
    "                                     test_score(g,s_tr_d,s_tr_l,s_te_d,s_te_l)))\n",
    "s,g,l=opt.BGSA(Eval_Func=Evaluate,n=20,m_i=200,minf=1)\n",
    "print(\"BGSA:\\n\\t{0}   {1:.6f}  {2}  {3:.6f}\".format(\"\".join(map(str,g)),s,l,\n",
    "                                      test_score(g,s_tr_d,s_tr_l,s_te_d,s_te_l)))\n",
    "s,g,l=opt.BDFA(Eval_Func=Evaluate,n=20,m_i=200,minf=1)\n",
    "print(\"BDFA:\\n\\t{0}   {1:.6f}  {2}  {3:.6f}\".format(\"\".join(map(str,g)),s,l,\n",
    "                                      test_score(g,s_tr_d,s_tr_l,s_te_d,s_te_l)))"
   ]
  },
  {
   "cell_type": "markdown",
   "metadata": {},
   "source": [
    "### using progress bar"
   ]
  },
  {
   "cell_type": "code",
   "execution_count": 10,
   "metadata": {},
   "outputs": [
    {
     "name": "stderr",
     "output_type": "stream",
     "text": [
      "100%|██████████| 200/200 [00:21<00:00,  9.31it/s]"
     ]
    },
    {
     "name": "stdout",
     "output_type": "stream",
     "text": [
      "BBA:\n",
      "\t100110100010000001100000001000000000111000000100110000100010   0.155952  16 0.768000\n"
     ]
    },
    {
     "name": "stderr",
     "output_type": "stream",
     "text": [
      "\n"
     ]
    }
   ],
   "source": [
    "s,g,l=opt.BBA(Eval_Func=Evaluate,n=20,m_i=200,minf=1,prog=True)\n",
    "print(\"BBA:\\n\\t{0}   {1:.6f}  {2} {3:.6f}\".format(\"\".join(map(str,g)),s,l,\n",
    "                                     test_score(g,s_tr_d,s_tr_l,s_te_d,s_te_l)))"
   ]
  },
  {
   "cell_type": "code",
   "execution_count": null,
   "metadata": {
    "collapsed": true
   },
   "outputs": [],
   "source": []
  },
  {
   "cell_type": "markdown",
   "metadata": {},
   "source": [
    "# Comp<p>\n",
    "I propose penalty function<p>\n",
    "This fitness function was devised from the desire to obtain a small number of features when the evaluation number is the same although the number of features is different.<p>\n",
    "In addition, this function gives penalty as the number of obtained features increases, so it prevents acquiring a large number of features.<p>\n",
    "今回私は新しい評価関数を提案した。<p>\n",
    "この関数は、評価は同じでも特徴数が異なる場合に、少ない特徴数を得たいということから発案された。<p>\n",
    "また、この関数は獲得した特徴数の大きさに比例してペナルティを与えるので、多い特徴数が獲得されるのを抑止することも可能である。<p><br>\n",
    "This time using this<p>\n",
    "1.All features<p>\n",
    "2.Conventional method<p>\n",
    "3.Proposed method<p>\n",
    "Also compare<p>\n",
    "今回はこれを用いて<p>\n",
    "1.全特徴<p>\n",
    "2.従来手法<p>\n",
    "3.提案手法<p>\n",
    "の比較も行う<p>\n",
    "<br>\n",
    "\n",
    "\n",
    "\n",
    "<p>\n",
    "<b>Default</b><p>\n",
    "    $$ S_1=\\frac{A}{Z}$$\n",
    "\n",
    "<p>\n",
    "<b>Propose method</b> \n",
    "    $$ S_2=S_1-α*\\frac{d}{Z}$$\n",
    "    \n",
    "<p>    \n",
    "Variable\n",
    "* A=number of anser label\n",
    "* Z=number of data(label)<p>\n",
    "* α=penalty rate (this time is 0.15)\n",
    "* D=number of selected featuer\n",
    "* N=number of all featuer<p>"
   ]
  },
  {
   "cell_type": "markdown",
   "metadata": {},
   "source": [
    "## 1.using all feature"
   ]
  },
  {
   "cell_type": "code",
   "execution_count": 17,
   "metadata": {},
   "outputs": [],
   "source": [
    "def check(gen,tr_x,tr_y,te_x,te_y):\n",
    "    mask=np.array(gen) == 1\n",
    "    al_data=np.array(tr_x[:,mask])#[al[mask] for al in tr_d])\n",
    "    al_test_data=np.array(te_x[:,mask])#[al[mask] for al in te_d])\n",
    "    k=4;s=0\n",
    "    for i in range(k):\n",
    "        s+=svm.LinearSVC().fit(al_data,tr_y).score(al_test_data,te_y)\n",
    "    score=s/k\n",
    "    return score\n"
   ]
  },
  {
   "cell_type": "code",
   "execution_count": 18,
   "metadata": {},
   "outputs": [
    {
     "name": "stdout",
     "output_type": "stream",
     "text": [
      "all_feature:\n",
      "\t111111111111111111111111111111111111111111111111111111111111   0.752  60\n"
     ]
    }
   ],
   "source": [
    "gen=[1]*60\n",
    "print(\"all_feature:\\n\\t{0}   {1}  {2}\".format(\"\".join(map(str,gen)),check(gen,s_tr_d,s_tr_l,s_te_d,s_te_l),len(gen)))"
   ]
  },
  {
   "cell_type": "code",
   "execution_count": null,
   "metadata": {
    "collapsed": true
   },
   "outputs": [],
   "source": []
  },
  {
   "cell_type": "markdown",
   "metadata": {},
   "source": [
    "## 2.default binary opt"
   ]
  },
  {
   "cell_type": "code",
   "execution_count": 13,
   "metadata": {},
   "outputs": [],
   "source": [
    "class Evaluate:\n",
    "    def __init__(self):\n",
    "        self.train_l=s_tr_l\n",
    "        self.train_d=s_tr_d\n",
    "        self.test_l=s_te_l\n",
    "        self.test_d=s_te_d\n",
    "        self.dim=len(s_tr_d[0])\n",
    "        self.K=4\n",
    "    def evaluate(self,gen):\n",
    "        mask=np.array(gen) > 0\n",
    "        al_data=np.array([al[mask] for al in self.train_d])\n",
    "        #al_test_data=np.array([al[mask] for al in self.test_d])\n",
    "        kf = ms.KFold(n_splits=self.K)\n",
    "        s = 0\n",
    "        for tr_ix,te_ix in kf.split(al_data):\n",
    "            s+= svm.LinearSVC().fit(al_data[tr_ix],self.train_l[tr_ix]).score(al_data[te_ix],self.train_l[te_ix])#.predict(al_test_data)\n",
    "        s/=self.K\n",
    "        return s\n",
    "    def check_dimentions(self,dim):\n",
    "        if dim==None:\n",
    "            return len(self.train_d[0])\n",
    "        else:\n",
    "            return dim\n"
   ]
  },
  {
   "cell_type": "code",
   "execution_count": 19,
   "metadata": {
    "scrolled": false
   },
   "outputs": [
    {
     "name": "stdout",
     "output_type": "stream",
     "text": [
      "Algorithm:\n",
      "\tbest_pos  best_val  number_of_1s\n",
      "BGA:\n",
      "\t011100110111101111010011101110011111111111101101101110100111   0.735714  43  0.760000\n",
      "BPSO:\n",
      "\t110100100011010101110110111000001000010001001101001000001101   0.855357  26  0.728000\n",
      "BCS:\n",
      "\t101010100010110110010101111111011011110110111011010011001111   0.747619  38  0.752000\n",
      "BFFA:\n",
      "\t000000100010000001100000010000000001000100100100100000000000   0.807143  10  0.784000\n",
      "BBA:\n",
      "\t000000100110001101100000111000000000111001001001000001011101   0.832143  21  0.760000\n",
      "BGSA:\n",
      "\t001100111010000011111111111000000101100010000101011011100000   0.770833  28  0.728000\n",
      "BDFA:\n",
      "\t110111110110001111100001110001000000110010001101010010101000   0.806548  28  0.752000\n"
     ]
    }
   ],
   "source": [
    "print(\"Algorithm:\\n\\t{0}  {1}  {2}\".format(\"best_pos\",\"best_val\",\"number_of_1s\"))\n",
    "\n",
    "s,g,l=opt.BGA(Eval_Func=Evaluate,n=20,m_i=500)\n",
    "print(\"BGA:\\n\\t{0}   {1:.6f}  {2}  {3:.6f}\".format(\"\".join(map(str,g)),s,l,\n",
    "                                          test_score(g,s_tr_d,s_tr_l,s_te_d,s_te_l)))\n",
    "s,g,l=opt.BPSO(Eval_Func=Evaluate,n=20,m_i=500)\n",
    "print(\"BPSO:\\n\\t{0}   {1:.6f}  {2}  {3:.6f}\".format(\"\".join(map(str,g)),s,l,\n",
    "                                           test_score(g,s_tr_d,s_tr_l,s_te_d,s_te_l)))\n",
    "s,g,l=opt.BCS(Eval_Func=Evaluate,n=20,m_i=500)\n",
    "print(\"BCS:\\n\\t{0}   {1:.6f}  {2}  {3:.6f}\".format(\"\".join(map(str,g)),s,l,\n",
    "                                          test_score(g,s_tr_d,s_tr_l,s_te_d,s_te_l)))\n",
    "\n",
    "s,g,l=opt.BFFA(Eval_Func=Evaluate,n=20,m_i=25)\n",
    "print(\"BFFA:\\n\\t{0}   {1:.6f}  {2}  {3:.6f}\".format(\"\".join(map(str,g)),s,l,\n",
    "                                           test_score(g,s_tr_d,s_tr_l,s_te_d,s_te_l)))\n",
    "\n",
    "s,g,l=opt.BBA(Eval_Func=Evaluate,n=20,m_i=500)\n",
    "print(\"BBA:\\n\\t{0}   {1:.6f}  {2}  {3:.6f}\".format(\"\".join(map(str,g)),s,l,\n",
    "                                          test_score(g,s_tr_d,s_tr_l,s_te_d,s_te_l)))\n",
    "s,g,l=opt.BGSA(Eval_Func=Evaluate,n=20,m_i=500)\n",
    "print(\"BGSA:\\n\\t{0}   {1:.6f}  {2}  {3:.6f}\".format(\"\".join(map(str,g)),s,l,\n",
    "                                           test_score(g,s_tr_d,s_tr_l,s_te_d,s_te_l)))\n",
    "s,g,l=opt.BDFA(Eval_Func=Evaluate,n=20,m_i=500)\n",
    "print(\"BDFA:\\n\\t{0}   {1:.6f}  {2}  {3:.6f}\".format(\"\".join(map(str,g)),s,l,\n",
    "                                           test_score(g,s_tr_d,s_tr_l,s_te_d,s_te_l)))\n"
   ]
  },
  {
   "cell_type": "code",
   "execution_count": null,
   "metadata": {
    "collapsed": true
   },
   "outputs": [],
   "source": []
  },
  {
   "cell_type": "markdown",
   "metadata": {},
   "source": [
    "## 3.propose(using penalty)"
   ]
  },
  {
   "cell_type": "code",
   "execution_count": 20,
   "metadata": {},
   "outputs": [],
   "source": [
    "class Evaluate:\n",
    "    def __init__(self):\n",
    "        self.train_l=s_tr_l\n",
    "        self.train_d=s_tr_d\n",
    "        self.test_l=s_te_l\n",
    "        self.test_d=s_te_d\n",
    "        self.dim=len(s_tr_d[0])\n",
    "        self.K=4\n",
    "    def evaluate(self,gen):\n",
    "        mask=np.array(gen) > 0\n",
    "        al_data=np.array([al[mask] for al in self.train_d])\n",
    "        #al_test_data=np.array([al[mask] for al in self.test_d])\n",
    "        kf = ms.KFold(n_splits=self.K)\n",
    "        score = 0\n",
    "        \n",
    "        for tr_ix,te_ix in kf.split(al_data):\n",
    "            score+= svm.LinearSVC().fit(al_data[tr_ix],self.train_l[tr_ix]).score(al_data[te_ix],self.train_l[te_ix])#.predict(al_test_data)\n",
    "            score-=comp_penalty(self.dim,gen.count(1),limit=0.15)\n",
    "        score/=self.K\n",
    "        \n",
    "        return score#-comp_penalty(self.dim,gen.count(1),limit=0.15)\n",
    "    def check_dimentions(self,dim):\n",
    "        if dim==None:\n",
    "            return len(self.train_d[0])\n",
    "        else:\n",
    "            return dim\n",
    "\n",
    "def comp_penalty(max_dim,dim,limit=0.15):#ペナルティ関数\n",
    "    return limit/max_dim*dim\n",
    "\n",
    "def org_score(score,leng,org_leng,lim=0.15):#ペナルティ後の元への変換\n",
    "    return score+comp_penalty(org_leng,leng,lim)\n"
   ]
  },
  {
   "cell_type": "code",
   "execution_count": 21,
   "metadata": {},
   "outputs": [
    {
     "name": "stdout",
     "output_type": "stream",
     "text": [
      "Algorithm:\n",
      "\tbest_pos  best_val  number_of_1s\n",
      "BGA:\n",
      "\t100111111111111111110111110011100001100010001010111010011101   0.770833  39  0.768000\n",
      "BPSO:\n",
      "\t000100000010000101100001101000001000110000000100000000010000   0.855952  13  0.736000\n",
      "BCS:\n",
      "\t110011011010000011110111110011001000100001001101000110010000   0.781548  27  0.760000\n",
      "BFFA:\n",
      "\t100100001110000010100000000000000001001010001001000001000000   0.807738  13  0.784000\n",
      "BBA:\n",
      "\t000010000011001001100001101000000001000000001100000011010100   0.830952  16  0.768000\n",
      "BGSA:\n",
      "\t001000000110101010100001001001000011100000001000000111001001   0.759524  19  0.736000\n",
      "BDFA:\n",
      "\t110110100010000110100001110000000001000000001000000001000011   0.867857  17  0.768000\n"
     ]
    }
   ],
   "source": [
    "print(\"Algorithm:\\n\\t{0}  {1}  {2}\".format(\"best_pos\",\"best_val\",\"number_of_1s\"))\n",
    "s,g,l=opt.BGA(Eval_Func=Evaluate,n=20,m_i=500)\n",
    "print(\"BGA:\\n\\t{0}   {1:.6f}  {2}  {3:.6f}\".format(\"\".join(map(str,g)),org_score(s,l,len(g)),l,\n",
    "                                              test_score(g,s_tr_d,s_tr_l,s_te_d,s_te_l)))\n",
    "s,g,l=opt.BPSO(Eval_Func=Evaluate,n=20,m_i=500)\n",
    "print(\"BPSO:\\n\\t{0}   {1:.6f}  {2}  {3:.6f}\".format(\"\".join(map(str,g)),org_score(s,l,len(g)),l,\n",
    "                                               test_score(g,s_tr_d,s_tr_l,s_te_d,s_te_l)))\n",
    "s,g,l=opt.BCS(Eval_Func=Evaluate,n=20,m_i=500)\n",
    "\n",
    "print(\"BCS:\\n\\t{0}   {1:.6f}  {2}  {3:.6f}\".format(\"\".join(map(str,g)),org_score(s,l,len(g)),l,\n",
    "                                              test_score(g,s_tr_d,s_tr_l,s_te_d,s_te_l)))\n",
    "s,g,l=opt.BFFA(Eval_Func=Evaluate,n=20,m_i=25)\n",
    "\n",
    "print(\"BFFA:\\n\\t{0}   {1:.6f}  {2}  {3:.6f}\".format(\"\".join(map(str,g)),org_score(s,l,len(g)),l,\n",
    "                                               test_score(g,s_tr_d,s_tr_l,s_te_d,s_te_l)))\n",
    "s,g,l=opt.BBA(Eval_Func=Evaluate,n=20,m_i=500)\n",
    "print(\"BBA:\\n\\t{0}   {1:.6f}  {2}  {3:.6f}\".format(\"\".join(map(str,g)),org_score(s,l,len(g)),l,\n",
    "                                              test_score(g,s_tr_d,s_tr_l,s_te_d,s_te_l)))\n",
    "s,g,l=opt.BGSA(Eval_Func=Evaluate,n=20,m_i=500)\n",
    "print(\"BGSA:\\n\\t{0}   {1:.6f}  {2}  {3:.6f}\".format(\"\".join(map(str,g)),org_score(s,l,len(g)),l,\n",
    "                                               test_score(g,s_tr_d,s_tr_l,s_te_d,s_te_l)))\n",
    "s,g,l=opt.BDFA(Eval_Func=Evaluate,n=20,m_i=500)\n",
    "print(\"BDFA:\\n\\t{0}   {1:.6f}  {2}  {3:.6f}\".format(\"\".join(map(str,g)),org_score(s,l,len(g)),l,\n",
    "                                               test_score(g,s_tr_d,s_tr_l,s_te_d,s_te_l)))\n"
   ]
  },
  {
   "cell_type": "code",
   "execution_count": null,
   "metadata": {
    "collapsed": true
   },
   "outputs": [],
   "source": []
  },
  {
   "cell_type": "code",
   "execution_count": null,
   "metadata": {},
   "outputs": [],
   "source": []
  }
 ],
 "metadata": {
  "kernelspec": {
   "display_name": "Python 3",
   "language": "python",
   "name": "python3"
  },
  "language_info": {
   "codemirror_mode": {
    "name": "ipython",
    "version": 3
   },
   "file_extension": ".py",
   "mimetype": "text/x-python",
   "name": "python",
   "nbconvert_exporter": "python",
   "pygments_lexer": "ipython3",
   "version": "3.6.5"
  }
 },
 "nbformat": 4,
 "nbformat_minor": 1
}
